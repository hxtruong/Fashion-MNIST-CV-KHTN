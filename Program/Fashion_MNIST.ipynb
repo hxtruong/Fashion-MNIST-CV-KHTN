{
  "nbformat": 4,
  "nbformat_minor": 0,
  "metadata": {
    "colab": {
      "name": "Fashion-MNIST.ipynb",
      "provenance": [],
      "collapsed_sections": []
    },
    "kernelspec": {
      "name": "python3",
      "display_name": "Python 3"
    },
    "accelerator": "GPU"
  },
  "cells": [
    {
      "cell_type": "markdown",
      "metadata": {
        "id": "zvyBk68KLsfq",
        "colab_type": "text"
      },
      "source": [
        "# Fashion-MNIST"
      ]
    },
    {
      "cell_type": "code",
      "metadata": {
        "id": "h1lnskOmLpvS",
        "colab_type": "code",
        "colab": {}
      },
      "source": [
        "# baseline cnn model for fashion mnist\n",
        "from numpy import mean\n",
        "from numpy import std\n",
        "from matplotlib import pyplot\n",
        "from sklearn.model_selection import KFold\n",
        "from keras.datasets import fashion_mnist\n",
        "from keras.utils import to_categorical\n",
        "from keras.models import Sequential\n",
        "from keras.layers import Conv2D\n",
        "from keras.layers import MaxPooling2D\n",
        "from keras.layers import BatchNormalization\n",
        "from keras.layers import Dense\n",
        "from keras.layers import Flatten\n",
        "from keras.optimizers import SGD"
      ],
      "execution_count": 0,
      "outputs": []
    },
    {
      "cell_type": "code",
      "metadata": {
        "id": "4PwihrsLMmMi",
        "colab_type": "code",
        "colab": {
          "base_uri": "https://localhost:8080/",
          "height": 171
        },
        "outputId": "a7595821-b31e-417a-b821-722a5e208038"
      },
      "source": [
        "# load dataset\n",
        "(trainX, trainy), (testX, testy) = fashion_mnist.load_data()"
      ],
      "execution_count": 2,
      "outputs": [
        {
          "output_type": "stream",
          "text": [
            "Downloading data from http://fashion-mnist.s3-website.eu-central-1.amazonaws.com/train-labels-idx1-ubyte.gz\n",
            "32768/29515 [=================================] - 0s 8us/step\n",
            "Downloading data from http://fashion-mnist.s3-website.eu-central-1.amazonaws.com/train-images-idx3-ubyte.gz\n",
            "26427392/26421880 [==============================] - 4s 0us/step\n",
            "Downloading data from http://fashion-mnist.s3-website.eu-central-1.amazonaws.com/t10k-labels-idx1-ubyte.gz\n",
            "8192/5148 [===============================================] - 0s 0us/step\n",
            "Downloading data from http://fashion-mnist.s3-website.eu-central-1.amazonaws.com/t10k-images-idx3-ubyte.gz\n",
            "4423680/4422102 [==============================] - 2s 0us/step\n"
          ],
          "name": "stdout"
        }
      ]
    },
    {
      "cell_type": "code",
      "metadata": {
        "id": "PnFC2XNcLhbQ",
        "colab_type": "code",
        "outputId": "c0b8998b-bb31-43a4-8134-f048695e02d8",
        "colab": {
          "base_uri": "https://localhost:8080/",
          "height": 302
        }
      },
      "source": [
        "# summarize loaded dataset\n",
        "print('Train: X=%s, y=%s' % (trainX.shape, trainy.shape))\n",
        "print('Test: X=%s, y=%s' % (testX.shape, testy.shape))\n",
        "# plot first few images\n",
        "for i in range(9):\n",
        "\t# define subplot\n",
        "\tpyplot.subplot(330 + 1 + i)\n",
        "\t# plot raw pixel data\n",
        "\tpyplot.imshow(trainX[i], cmap=pyplot.get_cmap('gray'))\n",
        "# show the figure\n",
        "pyplot.show()"
      ],
      "execution_count": 3,
      "outputs": [
        {
          "output_type": "stream",
          "text": [
            "Train: X=(60000, 28, 28), y=(60000,)\n",
            "Test: X=(10000, 28, 28), y=(10000,)\n"
          ],
          "name": "stdout"
        },
        {
          "output_type": "display_data",
          "data": {
            "image/png": "[encoded data removed]",
            "text/plain": [
              "<Figure size 432x288 with 9 Axes>"
            ]
          },
          "metadata": {
            "tags": []
          }
        }
      ]
    },
    {
      "cell_type": "markdown",
      "metadata": {
        "id": "u18uPOuNQykc",
        "colab_type": "text"
      },
      "source": [
        "## Load dataset"
      ]
    },
    {
      "cell_type": "code",
      "metadata": {
        "id": "Ts6BCbQORH1a",
        "colab_type": "code",
        "colab": {}
      },
      "source": [
        "# load train and test dataset\n",
        "def load_dataset():\n",
        "\t# load dataset\n",
        "\t(trainX, trainY), (testX, testY) = fashion_mnist.load_data()\n",
        "\t# reshape dataset to have a single channel\n",
        "\ttrainX = trainX.reshape((trainX.shape[0], 28, 28, 1))\n",
        "\ttestX = testX.reshape((testX.shape[0], 28, 28, 1))\n",
        "\t# one hot encode target values\n",
        "\ttrainY = to_categorical(trainY)\n",
        "\ttestY = to_categorical(testY)\n",
        "\treturn trainX, trainY, testX, testY"
      ],
      "execution_count": 0,
      "outputs": []
    },
    {
      "cell_type": "markdown",
      "metadata": {
        "id": "zVymh51RRnGa",
        "colab_type": "text"
      },
      "source": [
        "### Prepare pixel data"
      ]
    },
    {
      "cell_type": "code",
      "metadata": {
        "id": "3YcR4ICwRU3U",
        "colab_type": "code",
        "colab": {}
      },
      "source": [
        "# scale pixels\n",
        "def prep_pixels(train, test):\n",
        "\t# convert from integers to floats\n",
        "\ttrain_norm = train.astype('float32')\n",
        "\ttest_norm = test.astype('float32')\n",
        "\t# normalize to range 0-1\n",
        "\ttrain_norm = train_norm / 255.0\n",
        "\ttest_norm = test_norm / 255.0\n",
        "\t# return normalized images\n",
        "\treturn train_norm, test_norm"
      ],
      "execution_count": 0,
      "outputs": []
    },
    {
      "cell_type": "markdown",
      "metadata": {
        "id": "NT7fuSA1SGGM",
        "colab_type": "text"
      },
      "source": [
        "### Define model"
      ]
    },
    {
      "cell_type": "code",
      "metadata": {
        "id": "BfqO1GixRxKK",
        "colab_type": "code",
        "colab": {}
      },
      "source": [
        "# define cnn model\n",
        "def define_model():\n",
        "\tmodel = Sequential()\n",
        "\tmodel.add(Conv2D(64, (3, 3), activation='relu', kernel_initializer='he_uniform', input_shape=(28, 28, 1)))\n",
        "\t# model.add(BatchNormalization())\n",
        "\tmodel.add(MaxPooling2D((2, 2)))\n",
        "\tmodel.add(Flatten())\n",
        "\tmodel.add(Dense(100, activation='relu', kernel_initializer='he_uniform'))\n",
        "\tmodel.add(Dense(10, activation='softmax'))\n",
        "\t# compile model\n",
        "\topt = SGD(lr=0.01, momentum=0.9)\n",
        "\tmodel.compile(optimizer=opt, loss='categorical_crossentropy', metrics=['accuracy'])\n",
        "\treturn model"
      ],
      "execution_count": 0,
      "outputs": []
    },
    {
      "cell_type": "markdown",
      "metadata": {
        "id": "x4iNKLA2SPco",
        "colab_type": "text"
      },
      "source": [
        "### Evaluate model"
      ]
    },
    {
      "cell_type": "code",
      "metadata": {
        "id": "peST5ncmSN15",
        "colab_type": "code",
        "colab": {}
      },
      "source": [
        "# evaluate a model using k-fold cross-validation\n",
        "def evaluate_model(dataX, dataY, n_folds=5):\n",
        "\tscores, histories = list(), list()\n",
        "\t# prepare cross validation\n",
        "\tkfold = KFold(n_folds, shuffle=True, random_state=1)\n",
        "\t# enumerate splits\n",
        "\tfor train_ix, test_ix in kfold.split(dataX):\n",
        "\t\t# define model\n",
        "\t\tmodel = define_model()\n",
        "\t\t# select rows for train and test\n",
        "\t\ttrainX, trainY, testX, testY = dataX[train_ix], dataY[train_ix], dataX[test_ix], dataY[test_ix]\n",
        "\t\t# fit model\n",
        "\t\thistory = model.fit(trainX, trainY, epochs=10, batch_size=32, validation_data=(testX, testY), verbose=1)\n",
        "\t\t# evaluate model\n",
        "\t\t_, acc = model.evaluate(testX, testY, verbose=0)\n",
        "\t\tprint('> %.3f' % (acc * 100.0))\n",
        "\t\t# append scores\n",
        "\t\tscores.append(acc)\n",
        "\t\thistories.append(history)\n",
        "\treturn scores, histories"
      ],
      "execution_count": 0,
      "outputs": []
    },
    {
      "cell_type": "markdown",
      "metadata": {
        "id": "Z0FoT9cqSWkM",
        "colab_type": "text"
      },
      "source": [
        "### Present results"
      ]
    },
    {
      "cell_type": "code",
      "metadata": {
        "id": "ua5CAGJ-SUzm",
        "colab_type": "code",
        "colab": {}
      },
      "source": [
        "# plot diagnostic learning curves\n",
        "def summarize_diagnostics(histories):\n",
        "\tfor i in range(len(histories)):\n",
        "\t\t# plot loss\n",
        "\t\tpyplot.subplot(211)\n",
        "\t\tpyplot.title('Cross Entropy Loss')\n",
        "\t\tpyplot.plot(histories[i].history['loss'], color='blue', label='train')\n",
        "\t\tpyplot.plot(histories[i].history['val_loss'], color='orange', label='test')\n",
        "\t\t# plot accuracy\n",
        "\t\tpyplot.subplot(212)\n",
        "\t\tpyplot.title('Classification Accuracy')\n",
        "\t\tpyplot.plot(histories[i].history['acc'], color='blue', label='train')\n",
        "\t\tpyplot.plot(histories[i].history['val_acc'], color='orange', label='test')\n",
        "\tpyplot.show()"
      ],
      "execution_count": 0,
      "outputs": []
    },
    {
      "cell_type": "code",
      "metadata": {
        "id": "Z9843-odSfls",
        "colab_type": "code",
        "colab": {}
      },
      "source": [
        "# summarize model performance\n",
        "def summarize_performance(scores):\n",
        "\t# print summary\n",
        "\tprint('Accuracy: mean=%.3f std=%.3f, n=%d' % (mean(scores)*100, std(scores)*100, len(scores)))\n",
        "\t# box and whisker plots of results\n",
        "\tpyplot.boxplot(scores)\n",
        "\tpyplot.show()"
      ],
      "execution_count": 0,
      "outputs": []
    },
    {
      "cell_type": "markdown",
      "metadata": {
        "id": "pDjX3UiHSkry",
        "colab_type": "text"
      },
      "source": [
        "### Complete example"
      ]
    },
    {
      "cell_type": "code",
      "metadata": {
        "id": "3M3F5mDqQ8dN",
        "colab_type": "code",
        "colab": {}
      },
      "source": [
        "# run the test harness for evaluating a model\n",
        "def run_test_harness():\n",
        "\t# load dataset\n",
        "\ttrainX, trainY, testX, testY = load_dataset()\n",
        "\t# prepare pixel data\n",
        "\ttrainX, testX = prep_pixels(trainX, testX)\n",
        "\t# evaluate model\n",
        "\tscores, histories = evaluate_model(trainX, trainY)\n",
        "\t# learning curves\n",
        "\tsummarize_diagnostics(histories)\n",
        "\t# summarize estimated performance\n",
        "\tsummarize_performance(scores)"
      ],
      "execution_count": 0,
      "outputs": []
    },
    {
      "cell_type": "code",
      "metadata": {
        "id": "L0xarMqijDYj",
        "colab_type": "code",
        "colab": {}
      },
      "source": [
        "# # evaluate a model using k-fold cross-validation\n",
        "# def evaluate_model_1(dataX, dataY):\n",
        "#     scores, histories = list(), list()\n",
        "#     # define model\n",
        "#     model = define_model()\n",
        "#     # select rows for train and test\n",
        "#     trainX, trainY, testX, testY = dataX[:50000], dataY[:50000], dataX[50000:], dataY[50000:]\n",
        "#     # fit model\n",
        "#     history = model.fit(trainX, trainY, epochs=10, batch_size=32, validation_data=(testX, testY), verbose=1)#, steps_per_epoch=100, validation_steps=10)\n",
        "#     # evaluate model\n",
        "#     _, acc = model.evaluate(testX, testY, verbose=0)\n",
        "#     print('> %.3f' % (acc * 100.0))\n",
        "#     # append scores\n",
        "#     scores.append(acc)\n",
        "#     histories.append(history)\n",
        "\n",
        "#     return scores, histories"
      ],
      "execution_count": 0,
      "outputs": []
    },
    {
      "cell_type": "code",
      "metadata": {
        "id": "OaT__JS2Spec",
        "colab_type": "code",
        "outputId": "71ec8d37-6b46-4ce6-d439-5ae9e760608c",
        "colab": {
          "base_uri": "https://localhost:8080/",
          "height": 1000
        }
      },
      "source": [
        "run_test_harness()"
      ],
      "execution_count": 50,
      "outputs": [
        {
          "output_type": "stream",
          "text": [
            "Train on 48000 samples, validate on 12000 samples\n",
            "Epoch 1/10\n",
            "48000/48000 [==============================] - 12s 255us/step - loss: 0.4596 - acc: 0.8342 - val_loss: 0.3674 - val_acc: 0.8714\n",
            "Epoch 2/10\n",
            "48000/48000 [==============================] - 11s 233us/step - loss: 0.2958 - acc: 0.8942 - val_loss: 0.3064 - val_acc: 0.8898\n",
            "Epoch 3/10\n",
            "48000/48000 [==============================] - 11s 233us/step - loss: 0.2511 - acc: 0.9096 - val_loss: 0.3009 - val_acc: 0.8878\n",
            "Epoch 4/10\n",
            "48000/48000 [==============================] - 11s 233us/step - loss: 0.2211 - acc: 0.9203 - val_loss: 0.2599 - val_acc: 0.9061\n",
            "Epoch 5/10\n",
            "48000/48000 [==============================] - 11s 232us/step - loss: 0.1965 - acc: 0.9274 - val_loss: 0.2637 - val_acc: 0.9024\n",
            "Epoch 6/10\n",
            "48000/48000 [==============================] - 11s 232us/step - loss: 0.1756 - acc: 0.9358 - val_loss: 0.2716 - val_acc: 0.9028\n",
            "Epoch 7/10\n",
            "48000/48000 [==============================] - 11s 231us/step - loss: 0.1562 - acc: 0.9427 - val_loss: 0.2778 - val_acc: 0.9038\n",
            "Epoch 8/10\n",
            "48000/48000 [==============================] - 11s 232us/step - loss: 0.1424 - acc: 0.9485 - val_loss: 0.2851 - val_acc: 0.9097\n",
            "Epoch 9/10\n",
            "48000/48000 [==============================] - 11s 234us/step - loss: 0.1280 - acc: 0.9546 - val_loss: 0.2725 - val_acc: 0.9098\n",
            "Epoch 10/10\n",
            "48000/48000 [==============================] - 11s 233us/step - loss: 0.1149 - acc: 0.9584 - val_loss: 0.2822 - val_acc: 0.9062\n",
            "> 90.625\n",
            "Train on 48000 samples, validate on 12000 samples\n",
            "Epoch 1/10\n",
            "48000/48000 [==============================] - 12s 254us/step - loss: 0.4484 - acc: 0.8404 - val_loss: 0.3262 - val_acc: 0.8782\n",
            "Epoch 2/10\n",
            "48000/48000 [==============================] - 11s 231us/step - loss: 0.2935 - acc: 0.8923 - val_loss: 0.2800 - val_acc: 0.8971\n",
            "Epoch 3/10\n",
            "48000/48000 [==============================] - 11s 230us/step - loss: 0.2476 - acc: 0.9092 - val_loss: 0.2624 - val_acc: 0.9063\n",
            "Epoch 4/10\n",
            "48000/48000 [==============================] - 11s 230us/step - loss: 0.2158 - acc: 0.9197 - val_loss: 0.2719 - val_acc: 0.9010\n",
            "Epoch 5/10\n",
            "48000/48000 [==============================] - 11s 231us/step - loss: 0.1894 - acc: 0.9301 - val_loss: 0.2635 - val_acc: 0.9073\n",
            "Epoch 6/10\n",
            "48000/48000 [==============================] - 11s 230us/step - loss: 0.1727 - acc: 0.9360 - val_loss: 0.2599 - val_acc: 0.9090\n",
            "Epoch 7/10\n",
            "48000/48000 [==============================] - 11s 233us/step - loss: 0.1521 - acc: 0.9442 - val_loss: 0.2452 - val_acc: 0.9147\n",
            "Epoch 8/10\n",
            "48000/48000 [==============================] - 11s 230us/step - loss: 0.1360 - acc: 0.9502 - val_loss: 0.2670 - val_acc: 0.9130\n",
            "Epoch 9/10\n",
            "48000/48000 [==============================] - 11s 231us/step - loss: 0.1257 - acc: 0.9538 - val_loss: 0.2524 - val_acc: 0.9159\n",
            "Epoch 10/10\n",
            "48000/48000 [==============================] - 11s 231us/step - loss: 0.1090 - acc: 0.9603 - val_loss: 0.2547 - val_acc: 0.9170\n",
            "> 91.700\n",
            "Train on 48000 samples, validate on 12000 samples\n",
            "Epoch 1/10\n",
            "48000/48000 [==============================] - 13s 263us/step - loss: 0.4666 - acc: 0.8329 - val_loss: 0.3563 - val_acc: 0.8734\n",
            "Epoch 2/10\n",
            "48000/48000 [==============================] - 11s 232us/step - loss: 0.3023 - acc: 0.8900 - val_loss: 0.3177 - val_acc: 0.8851\n",
            "Epoch 3/10\n",
            "48000/48000 [==============================] - 11s 232us/step - loss: 0.2572 - acc: 0.9051 - val_loss: 0.2997 - val_acc: 0.8967\n",
            "Epoch 4/10\n",
            "48000/48000 [==============================] - 12s 241us/step - loss: 0.2263 - acc: 0.9171 - val_loss: 0.2805 - val_acc: 0.9037\n",
            "Epoch 5/10\n",
            "48000/48000 [==============================] - 11s 233us/step - loss: 0.2024 - acc: 0.9258 - val_loss: 0.2782 - val_acc: 0.9018\n",
            "Epoch 6/10\n",
            "48000/48000 [==============================] - 11s 230us/step - loss: 0.1852 - acc: 0.9315 - val_loss: 0.2573 - val_acc: 0.9093\n",
            "Epoch 7/10\n",
            "48000/48000 [==============================] - 11s 231us/step - loss: 0.1648 - acc: 0.9401 - val_loss: 0.2679 - val_acc: 0.9094\n",
            "Epoch 8/10\n",
            "48000/48000 [==============================] - 11s 232us/step - loss: 0.1501 - acc: 0.9455 - val_loss: 0.2656 - val_acc: 0.9123\n",
            "Epoch 9/10\n",
            "48000/48000 [==============================] - 11s 232us/step - loss: 0.1366 - acc: 0.9505 - val_loss: 0.2792 - val_acc: 0.9099\n",
            "Epoch 10/10\n",
            "48000/48000 [==============================] - 11s 237us/step - loss: 0.1245 - acc: 0.9546 - val_loss: 0.2770 - val_acc: 0.9132\n",
            "> 91.317\n",
            "Train on 48000 samples, validate on 12000 samples\n",
            "Epoch 1/10\n",
            "48000/48000 [==============================] - 12s 257us/step - loss: 0.4491 - acc: 0.8386 - val_loss: 0.3346 - val_acc: 0.8777\n",
            "Epoch 2/10\n",
            "48000/48000 [==============================] - 11s 232us/step - loss: 0.2933 - acc: 0.8945 - val_loss: 0.2916 - val_acc: 0.8942\n",
            "Epoch 3/10\n",
            "48000/48000 [==============================] - 11s 234us/step - loss: 0.2484 - acc: 0.9101 - val_loss: 0.2617 - val_acc: 0.9053\n",
            "Epoch 4/10\n",
            "48000/48000 [==============================] - 11s 232us/step - loss: 0.2189 - acc: 0.9210 - val_loss: 0.2813 - val_acc: 0.8952\n",
            "Epoch 5/10\n",
            "48000/48000 [==============================] - 11s 234us/step - loss: 0.1916 - acc: 0.9307 - val_loss: 0.2772 - val_acc: 0.9002\n",
            "Epoch 6/10\n",
            "48000/48000 [==============================] - 11s 236us/step - loss: 0.1736 - acc: 0.9360 - val_loss: 0.2583 - val_acc: 0.9090\n",
            "Epoch 7/10\n",
            "48000/48000 [==============================] - 11s 232us/step - loss: 0.1564 - acc: 0.9427 - val_loss: 0.2960 - val_acc: 0.8912\n",
            "Epoch 8/10\n",
            "48000/48000 [==============================] - 11s 231us/step - loss: 0.1401 - acc: 0.9484 - val_loss: 0.2686 - val_acc: 0.9093\n",
            "Epoch 9/10\n",
            "48000/48000 [==============================] - 11s 232us/step - loss: 0.1267 - acc: 0.9540 - val_loss: 0.2626 - val_acc: 0.9152\n",
            "Epoch 10/10\n",
            "48000/48000 [==============================] - 11s 234us/step - loss: 0.1125 - acc: 0.9596 - val_loss: 0.2848 - val_acc: 0.9077\n",
            "> 90.767\n",
            "Train on 48000 samples, validate on 12000 samples\n",
            "Epoch 1/10\n",
            "48000/48000 [==============================] - 12s 260us/step - loss: 0.4338 - acc: 0.8440 - val_loss: 0.3302 - val_acc: 0.8805\n",
            "Epoch 2/10\n",
            "48000/48000 [==============================] - 11s 234us/step - loss: 0.2880 - acc: 0.8943 - val_loss: 0.2889 - val_acc: 0.8981\n",
            "Epoch 3/10\n",
            "48000/48000 [==============================] - 11s 234us/step - loss: 0.2462 - acc: 0.9101 - val_loss: 0.2795 - val_acc: 0.9003\n",
            "Epoch 4/10\n",
            "48000/48000 [==============================] - 11s 234us/step - loss: 0.2140 - acc: 0.9207 - val_loss: 0.2645 - val_acc: 0.9073\n",
            "Epoch 5/10\n",
            "48000/48000 [==============================] - 11s 234us/step - loss: 0.1899 - acc: 0.9298 - val_loss: 0.2746 - val_acc: 0.9063\n",
            "Epoch 6/10\n",
            "48000/48000 [==============================] - 11s 234us/step - loss: 0.1672 - acc: 0.9380 - val_loss: 0.2736 - val_acc: 0.9071\n",
            "Epoch 7/10\n",
            "48000/48000 [==============================] - 11s 234us/step - loss: 0.1473 - acc: 0.9461 - val_loss: 0.2683 - val_acc: 0.9144\n",
            "Epoch 8/10\n",
            "48000/48000 [==============================] - 11s 237us/step - loss: 0.1303 - acc: 0.9514 - val_loss: 0.2698 - val_acc: 0.9115\n",
            "Epoch 9/10\n",
            "48000/48000 [==============================] - 11s 230us/step - loss: 0.1174 - acc: 0.9575 - val_loss: 0.2861 - val_acc: 0.9084\n",
            "Epoch 10/10\n",
            "48000/48000 [==============================] - 11s 228us/step - loss: 0.1027 - acc: 0.9630 - val_loss: 0.2827 - val_acc: 0.9155\n",
            "> 91.550\n"
          ],
          "name": "stdout"
        },
        {
          "output_type": "stream",
          "text": [
            "/usr/local/lib/python3.6/dist-packages/matplotlib/figure.py:98: MatplotlibDeprecationWarning: \n",
            "Adding an axes using the same arguments as a previous axes currently reuses the earlier instance.  In a future version, a new instance will always be created and returned.  Meanwhile, this warning can be suppressed, and the future behavior ensured, by passing a unique label to each axes instance.\n",
            "  \"Adding an axes using the same arguments as a previous axes \"\n"
          ],
          "name": "stderr"
        },
        {
          "output_type": "display_data",
          "data": {
            "image/png": "[encoded data removed]",
            "text/plain": [
              "<Figure size 432x288 with 2 Axes>"
            ]
          },
          "metadata": {
            "tags": []
          }
        },
        {
          "output_type": "stream",
          "text": [
            "Accuracy: mean=91.192 std=0.425, n=5\n"
          ],
          "name": "stdout"
        },
        {
          "output_type": "display_data",
          "data": {
            "image/png": "[encoded data removed]",
            "text/plain": [
              "<Figure size 432x288 with 1 Axes>"
            ]
          },
          "metadata": {
            "tags": []
          }
        }
      ]
    },
    {
      "cell_type": "code",
      "metadata": {
        "id": "R9SbMlPgTDBw",
        "colab_type": "code",
        "colab": {}
      },
      "source": [
        ""
      ],
      "execution_count": 0,
      "outputs": []
    }
  ]
}